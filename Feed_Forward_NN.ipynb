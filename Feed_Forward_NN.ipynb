{
 "cells": [
  {
   "cell_type": "markdown",
   "id": "39d33024",
   "metadata": {},
   "source": [
    "In this notebook, we generate a Feed Forward Neural Network."
   ]
  },
  {
   "cell_type": "code",
   "execution_count": 27,
   "id": "f9c4ad3a",
   "metadata": {},
   "outputs": [],
   "source": [
    "import os # Useful for running command line within python\n",
    "import pandas as pd ## Useful for data manipulation\n",
    "\n",
    "import torch ## Pytorch is the deep learning library that we will be using\n",
    "import torch.nn as nn # Neural network module\n",
    "import torch.nn.functional as F ## Functional module\n",
    "import torchmetrics ## Torchmetrics is a library that contains metrics for evaluating models\n",
    "import torchvision.transforms as transforms\n",
    "from torch.utils.data import DataLoader, random_split\n",
    "#from torchvision.datasets.folder import default_loader\n",
    "from torch.utils.data.dataset import Dataset\n",
    "\n",
    "import pytorch_lightning as pl ## Pytorch lightning is a wrapper for pytorch that makes it easier to train models\n",
    "from pytorch_lightning.loggers import CSVLogger\n",
    "from pytorch_lightning.callbacks import Callback, ModelCheckpoint\n",
    "from pytorch_lightning.callbacks.progress import TQDMProgressBar\n",
    "from torchmetrics.regression import MeanSquaredError\n",
    "\n",
    "from torch.nn import ReLU, Sequential\n",
    "import numpy as np\n",
    "import datetime"
   ]
  },
  {
   "cell_type": "markdown",
   "id": "95769783",
   "metadata": {},
   "source": [
    "I need to load the trainset, valset, and testset."
   ]
  },
  {
   "cell_type": "code",
   "execution_count": 2,
   "id": "4ce8c277",
   "metadata": {},
   "outputs": [],
   "source": [
    "data=pd.read_csv(\"./data/cleaned_data/86077_aws_plumber_data_wind.csv\")"
   ]
  },
  {
   "cell_type": "code",
   "execution_count": 9,
   "id": "68fe5820",
   "metadata": {},
   "outputs": [],
   "source": [
    "names_inputs=list(data.columns)\n",
    "names_inputs.remove(\"Air_Temperature_in_degrees_C\")"
   ]
  },
  {
   "cell_type": "code",
   "execution_count": 24,
   "id": "ce66677f",
   "metadata": {},
   "outputs": [
    {
     "data": {
      "text/plain": [
       "Precipitation_since_9am_local_time_in_mm                    0.0\n",
       "Relative_humidity_in_percentage                            94.0\n",
       "local_time                                  1999-01-01 01:00:00\n",
       "Mean_sea_level_pressure_in_hPa                      1018.700012\n",
       "swdown                                                      0.0\n",
       "lwdown                                                303.34995\n",
       "windN                                                  7.073663\n",
       "windE                                                  1.306483\n",
       "month_of_year                                                 1\n",
       "hour_of_day                                                   1\n",
       "Name: 2, dtype: object"
      ]
     },
     "execution_count": 24,
     "metadata": {},
     "output_type": "execute_result"
    }
   ],
   "source": [
    "data[names_inputs].loc[2]"
   ]
  },
  {
   "cell_type": "code",
   "execution_count": 14,
   "id": "5ad7da98",
   "metadata": {},
   "outputs": [],
   "source": [
    "temperatures=torch.tensor(data[\"Air_Temperature_in_degrees_C\"].values)"
   ]
  },
  {
   "cell_type": "code",
   "execution_count": 28,
   "id": "c5eafdb2",
   "metadata": {},
   "outputs": [
    {
     "data": {
      "text/plain": [
       "'1999-01-01 00:00:00'"
      ]
     },
     "execution_count": 28,
     "metadata": {},
     "output_type": "execute_result"
    }
   ],
   "source": [
    "data[\"local_time\"][0]"
   ]
  },
  {
   "cell_type": "code",
   "execution_count": 40,
   "id": "b81f8ff8",
   "metadata": {},
   "outputs": [],
   "source": [
    "n=len(temperatures)\n",
    "minutes=[datetime.datetime.strptime(data[\"local_time\"][i], '%Y-%m-%d %H:%M:%S').minute for i in range(n)]"
   ]
  },
  {
   "cell_type": "code",
   "execution_count": 41,
   "id": "55a67916",
   "metadata": {},
   "outputs": [],
   "source": [
    "data[\"local_time\"]=minutes"
   ]
  },
  {
   "cell_type": "code",
   "execution_count": 42,
   "id": "b27e43a8",
   "metadata": {},
   "outputs": [
    {
     "data": {
      "text/html": [
       "<div>\n",
       "<style scoped>\n",
       "    .dataframe tbody tr th:only-of-type {\n",
       "        vertical-align: middle;\n",
       "    }\n",
       "\n",
       "    .dataframe tbody tr th {\n",
       "        vertical-align: top;\n",
       "    }\n",
       "\n",
       "    .dataframe thead th {\n",
       "        text-align: right;\n",
       "    }\n",
       "</style>\n",
       "<table border=\"1\" class=\"dataframe\">\n",
       "  <thead>\n",
       "    <tr style=\"text-align: right;\">\n",
       "      <th></th>\n",
       "      <th>Precipitation_since_9am_local_time_in_mm</th>\n",
       "      <th>Air_Temperature_in_degrees_C</th>\n",
       "      <th>Relative_humidity_in_percentage</th>\n",
       "      <th>local_time</th>\n",
       "      <th>Mean_sea_level_pressure_in_hPa</th>\n",
       "      <th>swdown</th>\n",
       "      <th>lwdown</th>\n",
       "      <th>windN</th>\n",
       "      <th>windE</th>\n",
       "      <th>month_of_year</th>\n",
       "      <th>hour_of_day</th>\n",
       "    </tr>\n",
       "  </thead>\n",
       "  <tbody>\n",
       "    <tr>\n",
       "      <th>0</th>\n",
       "      <td>0.0</td>\n",
       "      <td>13.8</td>\n",
       "      <td>92.0</td>\n",
       "      <td>0</td>\n",
       "      <td>1019.099976</td>\n",
       "      <td>0.0</td>\n",
       "      <td>304.62973</td>\n",
       "      <td>8.882732</td>\n",
       "      <td>1.209460</td>\n",
       "      <td>1</td>\n",
       "      <td>0</td>\n",
       "    </tr>\n",
       "    <tr>\n",
       "      <th>1</th>\n",
       "      <td>0.0</td>\n",
       "      <td>13.8</td>\n",
       "      <td>93.0</td>\n",
       "      <td>30</td>\n",
       "      <td>1019.000000</td>\n",
       "      <td>0.0</td>\n",
       "      <td>303.34995</td>\n",
       "      <td>8.819151</td>\n",
       "      <td>1.260544</td>\n",
       "      <td>1</td>\n",
       "      <td>0</td>\n",
       "    </tr>\n",
       "    <tr>\n",
       "      <th>2</th>\n",
       "      <td>0.0</td>\n",
       "      <td>14.1</td>\n",
       "      <td>94.0</td>\n",
       "      <td>0</td>\n",
       "      <td>1018.700012</td>\n",
       "      <td>0.0</td>\n",
       "      <td>303.34995</td>\n",
       "      <td>7.073663</td>\n",
       "      <td>1.306483</td>\n",
       "      <td>1</td>\n",
       "      <td>1</td>\n",
       "    </tr>\n",
       "    <tr>\n",
       "      <th>3</th>\n",
       "      <td>0.0</td>\n",
       "      <td>14.6</td>\n",
       "      <td>94.0</td>\n",
       "      <td>30</td>\n",
       "      <td>1018.500000</td>\n",
       "      <td>0.0</td>\n",
       "      <td>311.65770</td>\n",
       "      <td>8.651668</td>\n",
       "      <td>1.396778</td>\n",
       "      <td>1</td>\n",
       "      <td>1</td>\n",
       "    </tr>\n",
       "    <tr>\n",
       "      <th>4</th>\n",
       "      <td>0.0</td>\n",
       "      <td>14.8</td>\n",
       "      <td>94.0</td>\n",
       "      <td>0</td>\n",
       "      <td>1018.200012</td>\n",
       "      <td>0.0</td>\n",
       "      <td>311.65770</td>\n",
       "      <td>6.908408</td>\n",
       "      <td>1.473841</td>\n",
       "      <td>1</td>\n",
       "      <td>2</td>\n",
       "    </tr>\n",
       "  </tbody>\n",
       "</table>\n",
       "</div>"
      ],
      "text/plain": [
       "   Precipitation_since_9am_local_time_in_mm  Air_Temperature_in_degrees_C  \\\n",
       "0                                       0.0                          13.8   \n",
       "1                                       0.0                          13.8   \n",
       "2                                       0.0                          14.1   \n",
       "3                                       0.0                          14.6   \n",
       "4                                       0.0                          14.8   \n",
       "\n",
       "   Relative_humidity_in_percentage  local_time  \\\n",
       "0                             92.0           0   \n",
       "1                             93.0          30   \n",
       "2                             94.0           0   \n",
       "3                             94.0          30   \n",
       "4                             94.0           0   \n",
       "\n",
       "   Mean_sea_level_pressure_in_hPa  swdown     lwdown     windN     windE  \\\n",
       "0                     1019.099976     0.0  304.62973  8.882732  1.209460   \n",
       "1                     1019.000000     0.0  303.34995  8.819151  1.260544   \n",
       "2                     1018.700012     0.0  303.34995  7.073663  1.306483   \n",
       "3                     1018.500000     0.0  311.65770  8.651668  1.396778   \n",
       "4                     1018.200012     0.0  311.65770  6.908408  1.473841   \n",
       "\n",
       "   month_of_year  hour_of_day  \n",
       "0              1            0  \n",
       "1              1            0  \n",
       "2              1            1  \n",
       "3              1            1  \n",
       "4              1            2  "
      ]
     },
     "execution_count": 42,
     "metadata": {},
     "output_type": "execute_result"
    }
   ],
   "source": [
    "data.head()"
   ]
  },
  {
   "cell_type": "code",
   "execution_count": 47,
   "id": "4b2b144d",
   "metadata": {},
   "outputs": [
    {
     "data": {
      "text/plain": [
       "tensor([0.0000e+00, 9.2000e+01, 0.0000e+00, 1.0191e+03, 0.0000e+00, 3.0463e+02,\n",
       "        8.8827e+00, 1.2095e+00, 1.0000e+00, 0.0000e+00])"
      ]
     },
     "execution_count": 47,
     "metadata": {},
     "output_type": "execute_result"
    }
   ],
   "source": [
    "torch.tensor(data[names_inputs].values.astype(np.float32))[0]"
   ]
  },
  {
   "cell_type": "code",
   "execution_count": 7,
   "id": "9668cff2",
   "metadata": {},
   "outputs": [
    {
     "data": {
      "text/plain": [
       "15997778.500621429"
      ]
     },
     "execution_count": 7,
     "metadata": {},
     "output_type": "execute_result"
    }
   ],
   "source": [
    "## Now the idea is to generate datasets. Given that the csv are managble in size. The idea is create a pandas dataframe, then\n",
    "## construct a tensor with input features, and another tensor with right temperatures\n",
    "\n",
    "### Take this example. From https://discuss.pytorch.org/t/create-custom-dataset-from-tensors/122566/5\n",
    "#my_x = torch.stack([torch.rand(2,2),torch.rand(2,2)])\n",
    "#my_y = torch.stack([torch.rand(1), torch.rand(1)])\n",
    "#my_dataset = torch.utils.data.TensorDataset(my_x,my_y)"
   ]
  },
  {
   "cell_type": "code",
   "execution_count": null,
   "id": "f31f0873",
   "metadata": {},
   "outputs": [],
   "source": [
    "## We are creating a custom dataset class\n",
    "class WeatherData(Dataset):\n",
    "\n",
    "    def __init__(self, csv_file):\n",
    "        \"\"\"\n",
    "        Arguments:\n",
    "            csv_file (string): Path to the csv file.\n",
    "        \"\"\"\n",
    "        \n",
    "        data = pd.read_csv(csv_file)\n",
    "        self.temperatures=torch.tensor(data[\"Air_Temperature_in_degrees_C\"].values)\n",
    "        n=len(self.temperatures)\n",
    "        minutes=[datetime.datetime.strptime(data[\"local_time\"][i], '%Y-%m-%d %H:%M:%S').minute for i in range(n)]\n",
    "        data[\"local_time\"]=minutes\n",
    "        names_inputs=list(data.columns)\n",
    "        names_inputs.remove(\"Air_Temperature_in_degrees_C\")\n",
    "        self.input=torch.tensor(data[names_inputs].values.astype(np.float32))\n",
    "        \n",
    "        ## We still need to define an appropiate set of transformations\n",
    "        \n",
    "        \n",
    "\n",
    "    def __len__(self):\n",
    "        return len(self.temperatures)\n",
    "\n",
    "    def __getitem__(self, idx:int):\n",
    "        return self.input[idx],self.temperatures[idx]"
   ]
  },
  {
   "cell_type": "markdown",
   "id": "23da6dcf",
   "metadata": {},
   "source": [
    "Define dataloaders"
   ]
  },
  {
   "cell_type": "code",
   "execution_count": 3,
   "id": "5431dbbe",
   "metadata": {},
   "outputs": [],
   "source": [
    "## Feed Forward Neural Network\n",
    "\n",
    "class feed_forward(pl.LightningModule):\n",
    "    def __init__(self, n, learning_rate=1e-2, traindataloader=None, valdataloader=None, testdataloader=None):\n",
    "        ## n is the number of inputs\n",
    "        super().__init__()\n",
    "        \n",
    "        # define learning rate\n",
    "        self.learning_rate = learning_rate ## Just the numerical value of the learning rate\n",
    "\n",
    "        # define loss function (Cross entropy loss)\n",
    "        self.loss_fun = nn.CrossEntropyLoss() ## The function to calculate the loss\n",
    "\n",
    "        # define neural layers\n",
    "        ## The architectures follows the NN defined in the Urban Heat Island paper about Athens \n",
    "        self.linear1 =  nn.Linear(n, 30) ## \n",
    "        self.linear2 =  nn.Linear(30, 30) ##\n",
    "        self.linear3= nn.Linear(30,1) ## This layer makes a prediction.\n",
    "        \n",
    "        # Create ReLU Activation Layer\n",
    "        self.relu=nn.ReLU() ####\n",
    "\n",
    "        # We calculate the mean square error as a perfomance metric\n",
    "        \n",
    "        self.train_mse = MeanSquaredError()\n",
    "        self.val_mse = MeanSquaredError()\n",
    "        self.test_mse = MeanSquaredError()\n",
    "\n",
    "        # Define dataloaders\n",
    "        self.traindataloader = traindataloader ### I am just passing the corresponding dataloader\n",
    "        self.valdataloader = valdataloader   ### I am just passing the corresponding dataloader\n",
    "        self.testdataloader = testdataloader ### I am just passing the corresponding dataloader\n",
    "\n",
    "    def forward(self, x):\n",
    "        \n",
    "        out1=self.relu(self.linear1(x))\n",
    "        out2=self.relu(self.linear2(out1))\n",
    "        out=self.linear3(out2)\n",
    "\n",
    "        return out # return the output\n",
    "\n",
    "    def training_step(self, batch, batch_idx):\n",
    "\n",
    "        # Make predictions\n",
    "        x,y=batch ## The batch should come from the CovidDataset class\n",
    "        # Do the prediction\n",
    "        \n",
    "        y_hat=self(x) ## This predicts the results from x\n",
    "\n",
    "        # Calculate the loss\n",
    "        # Apply the loss function here\n",
    "        loss=self.loss_fun(y_hat,y) ## Calculate the loss with the function declared in this class\n",
    "        ## Update the MSE\n",
    "        self.train_mse.update(y_hat, y)\n",
    "        \n",
    "        \n",
    "        # Record accuracy and loss\n",
    "        # Calling self.log will surface up scalars for you in TensorBoard\n",
    "        # You may add more logs as you think necessary\n",
    "         \n",
    "        ### In the next two lines the history of the loss and accuracy is logged\n",
    "        self.log(\"train_loss\", loss, prog_bar=True, on_step=False, on_epoch=True)\n",
    "        self.log(\"train_mse\", self.train_mse, prog_bar=True, on_step=False, on_epoch=True)\n",
    "\n",
    "        # Return the loss\n",
    "        return loss ## \n",
    "\n",
    "    def validation_step(self, batch, batch_idx):\n",
    "        \n",
    "        ### I am going to reuse the code for the training\n",
    "        x,y=batch \n",
    "        y_hat=self(x) ## This predicts the results from x\n",
    "\n",
    "        # Compute loss for each batch\n",
    "        loss=self.loss_fun(y_hat,y) ## Calculate the loss \n",
    "        ## Update the MSE\n",
    "        self.val_mse.update(y_hat, y)\n",
    "\n",
    "\n",
    "        # Record accuracy and loss\n",
    "        # Log anything you think necessary\n",
    "        ### Save the logs for the loss and for the accuracy\n",
    "        self.log(\"val_loss\", loss, prog_bar=True, on_step=False, on_epoch=True)\n",
    "        self.log(\"val_mse\", self.val_mse, prog_bar=True, on_step=False, on_epoch=True)\n",
    "\n",
    "    def test_step(self, batch, batch_idx):\n",
    "        \n",
    "        x,y=batch \n",
    "        y_hat=self(x) ## This predicts the results from x\n",
    "\n",
    "        # Compute loss for each batch\n",
    "        loss=self.loss_fun(y_hat,y) ## Calculate the loss \n",
    "\n",
    "        self.test_mse.update(y_hat, y) \n",
    "\n",
    "        # Record accuracy and loss\n",
    "        # Log anything you think necessary\n",
    "        self.log(\"test_loss\", loss, prog_bar=True, on_step=False, on_epoch=True)\n",
    "        self.log(\"test_mse\", self.test_mse, prog_bar=True, on_step=False, on_epoch=True)\n",
    "\n",
    "    def predict_step(self, batch, batch_idx):\n",
    "        \n",
    "        x,y=batch\n",
    "        # Do prediction\n",
    "        y_hat=self(x)\n",
    "\n",
    "        return y_hat,y,x # Return prediction, actual value and inputs  \n",
    "\n",
    "    def configure_optimizers(self):\n",
    "        # define optimizer\n",
    "        optimizer = torch.optim.Adam(self.parameters(), lr=self.learning_rate)\n",
    "        return optimizer\n",
    "\n",
    "    ####################\n",
    "    # DATA RELATED HOOKS\n",
    "    ####################\n",
    "\n",
    "    def train_dataloader(self):\n",
    "        # return the train dataloader\n",
    "        return  self.traindataloader ## Just return the traindataloader\n",
    "\n",
    "    def val_dataloader(self):\n",
    "        # return the validation dataloader\n",
    "        return self.valdataloader  ### Just return the valdataloader\n",
    "\n",
    "    def test_dataloader(self):\n",
    "        # return the test dataloader\n",
    "        return self.testdataloader  ## Just return the testdataloader"
   ]
  },
  {
   "cell_type": "code",
   "execution_count": null,
   "id": "f11e8f47",
   "metadata": {},
   "outputs": [],
   "source": []
  }
 ],
 "metadata": {
  "kernelspec": {
   "display_name": "Python 3 (ipykernel)",
   "language": "python",
   "name": "python3"
  },
  "language_info": {
   "codemirror_mode": {
    "name": "ipython",
    "version": 3
   },
   "file_extension": ".py",
   "mimetype": "text/x-python",
   "name": "python",
   "nbconvert_exporter": "python",
   "pygments_lexer": "ipython3",
   "version": "3.10.12"
  }
 },
 "nbformat": 4,
 "nbformat_minor": 5
}
