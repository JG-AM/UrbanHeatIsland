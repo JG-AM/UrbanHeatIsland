{
 "cells": [
  {
   "cell_type": "code",
   "execution_count": 96,
   "id": "ff379c0a",
   "metadata": {},
   "outputs": [],
   "source": [
    "import pandas as pd ## Useful for data manipulation\n",
    "import numpy as np\n",
    "import datetime"
   ]
  },
  {
   "cell_type": "code",
   "execution_count": 98,
   "id": "f23fb4e9",
   "metadata": {},
   "outputs": [],
   "source": [
    "data=pd.read_csv(\"./data/cleaned_data/86077_aws_plumber_data_wind.csv\")\n",
    "\n",
    "data.drop_duplicates(subset=['local_time'], keep='last', inplace=True)\n",
    "## There are some records that are repeated. That means they have the same date and time. I am throwing away the duplicates, and\n",
    "## just keeping the last of the records with the same date and time\n",
    "\n",
    "data.reset_index(drop=True, inplace=True);"
   ]
  },
  {
   "cell_type": "markdown",
   "id": "23f0a41a",
   "metadata": {},
   "source": [
    "The previous data is useful as the input of the neural network. I am going to prepare csv files with the temperature after 24 hours and 48 hours."
   ]
  },
  {
   "cell_type": "code",
   "execution_count": 16,
   "id": "6ef205e1",
   "metadata": {},
   "outputs": [
    {
     "name": "stdout",
     "output_type": "stream",
     "text": [
      "Missing data at index 14548\n",
      "Missing data at index 28994\n",
      "Missing data at index 49488\n",
      "Missing data at index 66958\n",
      "Missing data at index 84428\n"
     ]
    }
   ],
   "source": [
    "## Check if the data is complete, in the sense that we have measurements every 30 minutes\n",
    "for i in range(1,len(data)):\n",
    "    difference_time=(datetime.datetime.strptime(data[\"local_time\"][i], '%Y-%m-%d %H:%M:%S')\n",
    "                     -datetime.datetime.strptime(data[\"local_time\"][i-1], '%Y-%m-%d %H:%M:%S')).seconds\n",
    "    if difference_time!=1800:\n",
    "        print(\"Missing data at index {}\".format(i))"
   ]
  },
  {
   "cell_type": "markdown",
   "id": "ce62fd66",
   "metadata": {},
   "source": [
    "We can see that the data is not complete. Nevethless, the data is order by date and time."
   ]
  },
  {
   "cell_type": "code",
   "execution_count": 37,
   "id": "3cfff5c3",
   "metadata": {},
   "outputs": [
    {
     "data": {
      "text/plain": [
       "14547    1999-10-31 01:30:00\n",
       "14548    1999-10-31 03:00:00\n",
       "14549    1999-10-31 03:30:00\n",
       "Name: local_time, dtype: object"
      ]
     },
     "execution_count": 37,
     "metadata": {},
     "output_type": "execute_result"
    }
   ],
   "source": [
    "## One example to see the missing data\n",
    "data[\"local_time\"].loc[14547:14549]"
   ]
  },
  {
   "cell_type": "markdown",
   "id": "39b51948",
   "metadata": {},
   "source": [
    "Observe that there are some missing values. The time pass from 1:30 to 3:00"
   ]
  },
  {
   "cell_type": "markdown",
   "id": "c52e65c8",
   "metadata": {},
   "source": [
    "I create csv with only the rows that have a temperature 24 and 48 hours later."
   ]
  },
  {
   "cell_type": "code",
   "execution_count": 95,
   "id": "0fca667c",
   "metadata": {},
   "outputs": [],
   "source": [
    "aws_locations = {\n",
    "    'Melbourne Airport': {'station_id':86282, },\n",
    "    'Moorabbin Airport': {'station_id':86077, },\n",
    "    'Laverton RAAF': {'station_id':87031, },\n",
    "}\n",
    "\n",
    "aws_data_dir = 'data/raw_data/weather_station_data/'\n",
    "plumber_data_dir = \"data/raw_data/AU-Preston/timeseries/\"\n",
    "\n",
    "out_data_dir = 'data/cleaned_data/'"
   ]
  },
  {
   "cell_type": "code",
   "execution_count": 100,
   "id": "73b48fbd",
   "metadata": {},
   "outputs": [
    {
     "name": "stdout",
     "output_type": "stream",
     "text": [
      "Melbourne Airport 86282\n",
      "Moorabbin Airport 86077\n",
      "Laverton RAAF 87031\n"
     ]
    }
   ],
   "source": [
    "\n",
    "for loc in aws_locations:\n",
    "    station_id = aws_locations[loc]['station_id']\n",
    "    print(loc, station_id)\n",
    "    \n",
    "    # Open the corresponding data\n",
    "    data=pd.read_csv(f\"./{out_data_dir}{station_id}_aws_plumber_data_wind.csv\")\n",
    "    data.drop_duplicates(subset=['local_time'], keep='last', inplace=True)\n",
    "    data.reset_index(drop=True, inplace=True);\n",
    "\n",
    "    ## Now lets create an array of the inputs to the NN and the outputs\n",
    "    temperature_24=[]\n",
    "    temperature_48=[]\n",
    "    indeces_with_whole_data=[]\n",
    "    n=len(data)\n",
    "    n_48=96 ## This is the usual difference between the indeces of two rows separated by 48 hours\n",
    "    n_24=48 ## This is the usual difference between the indeces of two rows separated by 24 hours\n",
    "    for i in range(len(data)):\n",
    "        temporal_index=n_48\n",
    "        if i+temporal_index>=n:\n",
    "            break\n",
    "        flag_48=False\n",
    "        flag_24=False\n",
    "        while temporal_index>20:\n",
    "            time_difference=(datetime.datetime.strptime(data[\"local_time\"][i+temporal_index], '%Y-%m-%d %H:%M:%S')\n",
    "                         -datetime.datetime.strptime(data[\"local_time\"][i], '%Y-%m-%d %H:%M:%S'))\n",
    "            if time_difference.days==2 and time_difference.seconds==0:\n",
    "                possible_48=data['Air_Temperature_in_degrees_C'][i+temporal_index]\n",
    "                flag_48=True\n",
    "                temporal_index=n_24+1\n",
    "\n",
    "            if time_difference.days==1 and time_difference.seconds==0:\n",
    "                possible_24=data['Air_Temperature_in_degrees_C'][i+temporal_index]\n",
    "                flag_24=True\n",
    "                temporal_index=20\n",
    "\n",
    "            temporal_index-=1\n",
    "\n",
    "        if flag_24 and flag_48:\n",
    "            temperature_24.append(possible_24)\n",
    "            temperature_48.append(possible_48)\n",
    "            indeces_with_whole_data.append(i)\n",
    "              \n",
    "                \n",
    "    ## Create the csv files\n",
    "    new_data=data.iloc[indeces_with_whole_data,:]\n",
    "    new_data.to_csv(f\"{out_data_dir}{station_id}_aws_plumber_data_inputs.csv\", index=False)\n",
    "    \n",
    "    outputs=pd.DataFrame({\"temperature_24\":temperature_24,\"temperature_48\":temperature_48})\n",
    "    outputs.to_csv(f\"{out_data_dir}{station_id}_aws_plumber_data_outputs.csv\", index=False)"
   ]
  },
  {
   "cell_type": "code",
   "execution_count": null,
   "id": "587ca882",
   "metadata": {},
   "outputs": [],
   "source": []
  }
 ],
 "metadata": {
  "kernelspec": {
   "display_name": "Python 3 (ipykernel)",
   "language": "python",
   "name": "python3"
  },
  "language_info": {
   "codemirror_mode": {
    "name": "ipython",
    "version": 3
   },
   "file_extension": ".py",
   "mimetype": "text/x-python",
   "name": "python",
   "nbconvert_exporter": "python",
   "pygments_lexer": "ipython3",
   "version": "3.10.12"
  }
 },
 "nbformat": 4,
 "nbformat_minor": 5
}
